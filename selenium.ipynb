{
 "cells": [
  {
   "cell_type": "code",
   "execution_count": null,
   "metadata": {},
   "outputs": [],
   "source": [
    "from selenium import webdriver\n",
    "driver = webdriver.Chrome() \n",
    "\n",
    "driver.get(\"https://www.google.com\")\n",
    "\n",
    "driver.quit()"
   ]
  },
  {
   "cell_type": "code",
   "execution_count": 28,
   "metadata": {},
   "outputs": [],
   "source": [
    "from selenium import webdriver\n",
    "from selenium.webdriver.chrome.service import Service\n",
    "from selenium.webdriver.common.by import By\n",
    "from webdriver_manager.chrome import ChromeDriverManager\n",
    "from selenium.webdriver.chrome.options import Options"
   ]
  },
  {
   "cell_type": "code",
   "execution_count": 44,
   "metadata": {},
   "outputs": [],
   "source": [
    "chrome_options = Options()\n",
    "chrome_options.add_argument(\"--headless\") \n",
    "driver = webdriver.Chrome(service=Service(ChromeDriverManager().install()), options=chrome_options)\n"
   ]
  },
  {
   "cell_type": "markdown",
   "metadata": {},
   "source": [
    "landingImage"
   ]
  },
  {
   "cell_type": "code",
   "execution_count": null,
   "metadata": {},
   "outputs": [],
   "source": [
    "driver.get(\"https://www.amazon.com/SAMSUNG-Smartphone-Unlocked-Processor-Manufacturer/dp/B0DP3G4GVQ?ref=dlx_deals_dg_dcl_B0DP3G4GVQ_dt_sl14_7b&pf_rd_r=6B19WVY9G4HH8K6VTST0&pf_rd_p=06d7baf6-807f-49ac-90ed-549a5e00977b&th=1\")\n",
    "\n",
    "try:\n",
    "    title_element = driver.find_element(By.ID, \"productTitle\")\n",
    "    title = title_element.text.strip()\n",
    "    price_element = driver.find_element(By.CLASS_NAME, \"a-price-whole\")\n",
    "\n",
    "    image_element = driver.find_element(By.XPATH, \"//img[@id='landingImage']\")\n",
    "    image_url = image_element.get_attribute('src')\n",
    "    \n",
    "    product_data = [title, price_element.text.strip(), image_url]\n",
    "\n",
    "except Exception as e:\n",
    "    print(f\"Error: {e}\")"
   ]
  },
  {
   "cell_type": "code",
   "execution_count": 54,
   "metadata": {},
   "outputs": [
    {
     "name": "stdout",
     "output_type": "stream",
     "text": [
      "Product Title: SAMSUNG Galaxy S25 Ultra Cell Phone, 512GB AI Smartphone, Unlocked Android, AI Camera, Fast Processor, Long Battery Life, 2025, US 1 Yr Manufacturer Warranty, Titanium Black\n",
      "Product Price: 1,219\n"
     ]
    }
   ],
   "source": [
    "print(\"Product Title:\", product_data[0])\n",
    "print(\"Product Price:\", product_data[1])"
   ]
  },
  {
   "cell_type": "code",
   "execution_count": null,
   "metadata": {},
   "outputs": [
    {
     "name": "stdout",
     "output_type": "stream",
     "text": [
      "Image downloaded as images\\SAMSUNG_Galaxy_S25_Ultra_Cell_Phone,_512GB_AI_Smartphone,_Unlocked_Android,_AI_Camera,_Fast_Processor,_Long_Battery_Life,_2025,_US_1_Yr_Manufacturer_Warranty,_Titanium_Black.jpg\n"
     ]
    }
   ],
   "source": [
    "import os\n",
    "import requests\n",
    "img_url = product_data[2]\n",
    "image_name = title.replace('', '_') + '.jpg'  # Safe image name\n",
    "img_folder = 'images'\n",
    "if not os.path.exists(img_folder):\n",
    "    os.makedirs(img_folder)\n",
    "\n",
    "img_path = os.path.join(img_folder, image_name)\n",
    "img_data = requests.get(img_url).content\n",
    "\n",
    "with open(img_path, 'wb') as img_file:\n",
    "    img_file.write(img_data)\n",
    "\n",
    "print(f\"Image downloaded as {img_path}\")"
   ]
  }
 ],
 "metadata": {
  "kernelspec": {
   "display_name": "Python 3",
   "language": "python",
   "name": "python3"
  },
  "language_info": {
   "codemirror_mode": {
    "name": "ipython",
    "version": 3
   },
   "file_extension": ".py",
   "mimetype": "text/x-python",
   "name": "python",
   "nbconvert_exporter": "python",
   "pygments_lexer": "ipython3",
   "version": "3.12.5"
  }
 },
 "nbformat": 4,
 "nbformat_minor": 2
}
