{
 "cells": [
  {
   "cell_type": "code",
   "execution_count": 1,
   "metadata": {},
   "outputs": [],
   "source": [
    "from selenium import webdriver\n",
    "from selenium.webdriver.chrome.service import Service\n",
    "from selenium.webdriver.common.by import By\n",
    "from webdriver_manager.chrome import ChromeDriverManager\n",
    "from selenium.webdriver.chrome.options import Options"
   ]
  },
  {
   "cell_type": "code",
   "execution_count": null,
   "metadata": {},
   "outputs": [
    {
     "name": "stdout",
     "output_type": "stream",
     "text": [
      "Headline: Chief Adviser tells Sky News\n",
      "Subtitle: Sheikh Hasina will stand trial for crimes against humanity\n",
      "Subtitle: A trial will be taking place. Not only Sheikh Hasina, but also all the people who are associated with her - her family members, her clients or associates, Chief Adviser Professor Muhammad Yunus told UK-based Sky News in an interview published on Wednesday.\n"
     ]
    }
   ],
   "source": [
    "chrome_options = Options()\n",
    "chrome_options.add_argument(\"--headless\") \n",
    "driver = webdriver.Chrome(service=Service(ChromeDriverManager().install()), options=chrome_options)\n",
    "\n",
    "url = \"https://en.prothomalo.com/bangladesh/d22yw9v45m\"\n",
    "driver.get(url)\n",
    "\n",
    "headline = driver.find_element(By.CLASS_NAME, \"uv2z3\").text\n",
    "subtitle = driver.find_element(By.TAG_NAME, \"h1\").text\n",
    "news1 = driver.find_element(By.CLASS_NAME, \"Ibzfy\").text\n",
    "\n",
    "print(\"Headline:\", headline)\n",
    "print(\"Subtitle:\", subtitle)\n",
    "print(\"Subtitle:\", news1)\n",
    "\n",
    "driver.quit()\n"
   ]
  }
 ],
 "metadata": {
  "kernelspec": {
   "display_name": "Python 3",
   "language": "python",
   "name": "python3"
  },
  "language_info": {
   "codemirror_mode": {
    "name": "ipython",
    "version": 3
   },
   "file_extension": ".py",
   "mimetype": "text/x-python",
   "name": "python",
   "nbconvert_exporter": "python",
   "pygments_lexer": "ipython3",
   "version": "3.12.5"
  }
 },
 "nbformat": 4,
 "nbformat_minor": 2
}
