{
 "cells": [
  {
   "cell_type": "code",
   "execution_count": 13,
   "metadata": {},
   "outputs": [],
   "source": [
    "from selenium import webdriver\n",
    "from selenium.webdriver.chrome.service import Service as ChromeService\n",
    "from webdriver_manager.chrome import ChromeDriverManager\n",
    "from selenium.webdriver.common.by import By\n",
    "\n",
    "options = webdriver.ChromeOptions()\n",
    "\n",
    "options.add_experimental_option('prefs', {\n",
    "    \"download.default_directory\": r\"D:\\Scapping\",\n",
    "    \"download.prompt_for_download\": False,\n",
    "    \"plugins.always_open_pdf_externally\": True\n",
    "})\n",
    "\n",
    "driver = webdriver.Chrome(service=ChromeService(ChromeDriverManager().install()), options=options)\n",
    "URL = \"https://us.idec.com/idec-us/en/USD/Programmable-Logic-Controller/Micro-PLC/FT1A-SmartAXIS/p/FT1A-B12RC\"\n",
    "driver.get(URL)\n",
    "\n",
    "driver.maximize_window()\n",
    "#driver.implicitly_wait(5)    \n",
    "\n",
    "cookie_div = driver.find_element(By.XPATH, '//div[@id=\"js-cookie-notification\"]')\n",
    "if cookie_div:\n",
    "    driver.find_element(By.XPATH, '//div[@id=\"js-cookie-notification\"]/button').click()\n",
    "\n",
    "all_a_tags = driver.find_elements(By.XPATH, \"//a\")\n",
    "count = 0\n",
    "\n",
    "for a in all_a_tags:\n",
    "    if a.get_attribute('href') and '.pdf' in a.get_attribute('href') and 'download' in a.text.lower():\n",
    "        a.click()\n",
    "        driver.implicitly_wait(2)\n",
    "\n",
    "        count += 1\n",
    "        if count >= 5:\n",
    "            break\n",
    "\n",
    "driver.close()"
   ]
  },
  {
   "cell_type": "code",
   "execution_count": null,
   "metadata": {},
   "outputs": [],
   "source": []
  }
 ],
 "metadata": {
  "kernelspec": {
   "display_name": "Python 3",
   "language": "python",
   "name": "python3"
  },
  "language_info": {
   "codemirror_mode": {
    "name": "ipython",
    "version": 3
   },
   "file_extension": ".py",
   "mimetype": "text/x-python",
   "name": "python",
   "nbconvert_exporter": "python",
   "pygments_lexer": "ipython3",
   "version": "3.12.5"
  }
 },
 "nbformat": 4,
 "nbformat_minor": 2
}
